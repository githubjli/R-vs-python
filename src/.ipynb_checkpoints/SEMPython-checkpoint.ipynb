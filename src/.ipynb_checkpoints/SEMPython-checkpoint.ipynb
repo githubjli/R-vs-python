{
 "cells": [
  {
   "cell_type": "code",
   "execution_count": 1,
   "id": "5aba5236",
   "metadata": {},
   "outputs": [
    {
     "ename": "ModuleNotFoundError",
     "evalue": "No module named 'semopy'",
     "output_type": "error",
     "traceback": [
      "\u001b[0;31m---------------------------------------------------------------------------\u001b[0m",
      "\u001b[0;31mModuleNotFoundError\u001b[0m                       Traceback (most recent call last)",
      "Cell \u001b[0;32mIn[1], line 2\u001b[0m\n\u001b[1;32m      1\u001b[0m \u001b[38;5;28;01mimport\u001b[39;00m \u001b[38;5;21;01mpandas\u001b[39;00m \u001b[38;5;28;01mas\u001b[39;00m \u001b[38;5;21;01mpd\u001b[39;00m\n\u001b[0;32m----> 2\u001b[0m \u001b[38;5;28;01mfrom\u001b[39;00m \u001b[38;5;21;01msemopy\u001b[39;00m \u001b[38;5;28;01mimport\u001b[39;00m Model\n\u001b[1;32m      3\u001b[0m \u001b[38;5;28;01mfrom\u001b[39;00m \u001b[38;5;21;01msemopy\u001b[39;00m\u001b[38;5;21;01m.\u001b[39;00m\u001b[38;5;21;01mstats\u001b[39;00m \u001b[38;5;28;01mimport\u001b[39;00m calc_stats\n",
      "\u001b[0;31mModuleNotFoundError\u001b[0m: No module named 'semopy'"
     ]
    }
   ],
   "source": [
    "import pandas as pd\n",
    "from semopy import Model\n",
    "from semopy.stats import calc_stats"
   ]
  },
  {
   "cell_type": "code",
   "execution_count": 2,
   "id": "c9ba3009",
   "metadata": {},
   "outputs": [],
   "source": [
    "import pandas as pd\n",
    "from semopy import Model\n",
    "from semopy.stats import calc_stats"
   ]
  },
  {
   "cell_type": "code",
   "execution_count": 4,
   "id": "98526550",
   "metadata": {},
   "outputs": [],
   "source": [
    "data = pd.read_excel(\"../data/cleandata.xlsx\")"
   ]
  },
  {
   "cell_type": "code",
   "execution_count": 5,
   "id": "8e36e322",
   "metadata": {},
   "outputs": [],
   "source": [
    "# 定义模型规格\n",
    "model_spec = \"\"\"\n",
    "# 测量模型\n",
    "BusTangible =~ BT1 + BT2 + BT4 + BT5 + BT6 + BT7\n",
    "BusDriversQuality =~ BD1 + BD2 + BD3 + BD4\n",
    "Empathy =~ EMP1 + EMP2 + EMP3 + EMP4 + EMP5\n",
    "EnvironmentalPerformance =~ EP1 + EP2 + EP3 + EP4\n",
    "CustomerSatisfaction =~ CS1 + CS2 + CS3\n",
    "LifeSatisfaction =~ LS1 + LS2 + LS3 + LS4 + LS5\n",
    "\n",
    "# 结构模型\n",
    "CustomerSatisfaction ~ BusTangible + BusDriversQuality + Empathy + EnvironmentalPerformance\n",
    "LifeSatisfaction ~ CustomerSatisfaction\n",
    "\"\"\""
   ]
  },
  {
   "cell_type": "code",
   "execution_count": 6,
   "id": "95c622c7",
   "metadata": {},
   "outputs": [
    {
     "name": "stdout",
     "output_type": "stream",
     "text": [
      "       DoF  DoF Baseline        chi2  chi2 p-value  chi2 Baseline       CFI  \\\n",
      "Value  313           351  561.166068  2.220446e-16    5050.919644  0.947198   \n",
      "\n",
      "            GFI     AGFI       NFI       TLI    RMSEA         AIC         BIC  \\\n",
      "Value  0.888898  0.87541  0.888898  0.940787  0.05409  125.873779  360.250913   \n",
      "\n",
      "         LogLik  \n",
      "Value  2.063111  \n"
     ]
    }
   ],
   "source": [
    "# 实例化并拟合模型\n",
    "sem_model = Model(model_spec)\n",
    "res = sem_model.fit(data)\n",
    "\n",
    "# 计算统计量\n",
    "stats = calc_stats(sem_model)\n",
    "print(stats)"
   ]
  },
  {
   "cell_type": "code",
   "execution_count": 9,
   "id": "9ee3233c",
   "metadata": {},
   "outputs": [
    {
     "name": "stdout",
     "output_type": "stream",
     "text": [
      "Name of objective: MLW\n",
      "Optimization method: SLSQP\n",
      "Optimization successful.\n",
      "Optimization terminated successfully\n",
      "Objective value: 2.063\n",
      "Number of iterations: 43\n",
      "Params: 1.021 0.986 1.079 1.124 1.132 0.942 1.038 0.897 0.923 0.924 0.870 0.878 1.065 0.851 0.893 1.023 1.045 1.092 1.050 1.102 0.874 0.313 0.132 0.367 0.155 0.270 0.945 0.843 0.792 0.737 0.870 0.929 1.065 1.029 1.002 1.177 1.311 0.833 0.721 0.492 0.595 0.307 0.148 0.428 0.749 1.332 0.975 1.721 0.814 1.163 0.335 0.066 0.773 0.804 1.309 0.798 0.594 1.588 0.640 0.412 0.219 0.475 0.769 1.551 1.013\n"
     ]
    }
   ],
   "source": [
    "print(res)"
   ]
  },
  {
   "cell_type": "code",
   "execution_count": 12,
   "id": "20e62c87",
   "metadata": {},
   "outputs": [
    {
     "name": "stdout",
     "output_type": "stream",
     "text": [
      "                    lval  op                      rval  Estimate  Std. Err  \\\n",
      "0   CustomerSatisfaction   ~               BusTangible  0.312992  0.113946   \n",
      "1   CustomerSatisfaction   ~         BusDriversQuality  0.132131  0.096675   \n",
      "2   CustomerSatisfaction   ~                   Empathy  0.366919  0.080496   \n",
      "3   CustomerSatisfaction   ~  EnvironmentalPerformance  0.155423  0.057013   \n",
      "4       LifeSatisfaction   ~      CustomerSatisfaction  0.270154  0.055035   \n",
      "..                   ...  ..                       ...       ...       ...   \n",
      "66                   LS1  ~~                       LS1  0.411645  0.044789   \n",
      "67                   LS2  ~~                       LS2  0.218802  0.034961   \n",
      "68                   LS3  ~~                       LS3  0.475332  0.051035   \n",
      "69                   LS4  ~~                       LS4  0.768538  0.076086   \n",
      "70                   LS5  ~~                       LS5  1.551473  0.138635   \n",
      "\n",
      "      z-value   p-value  \n",
      "0    2.746852  0.006017  \n",
      "1    1.366748  0.171704  \n",
      "2     4.55821  0.000005  \n",
      "3    2.726103  0.006409  \n",
      "4     4.90875  0.000001  \n",
      "..        ...       ...  \n",
      "66   9.190718       0.0  \n",
      "67    6.25841       0.0  \n",
      "68   9.313855       0.0  \n",
      "69  10.100901       0.0  \n",
      "70  11.191088       0.0  \n",
      "\n",
      "[71 rows x 7 columns]\n"
     ]
    }
   ],
   "source": [
    "ins = sem_model.inspect()\n",
    "print(ins)"
   ]
  },
  {
   "cell_type": "code",
   "execution_count": 15,
   "id": "5c8243a3",
   "metadata": {},
   "outputs": [
    {
     "name": "stdout",
     "output_type": "stream",
     "text": [
      "None\n"
     ]
    }
   ],
   "source": [
    "parameters = sem_model.inspect(mode='std') \n",
    "print(parameters)"
   ]
  },
  {
   "cell_type": "code",
   "execution_count": 16,
   "id": "064b870c",
   "metadata": {},
   "outputs": [],
   "source": [
    "data = pd.read_excel(\"../data/cleandata.xlsx\")\n",
    "# 定义模型规格\n",
    "model_spec = \"\"\"\n",
    "# 测量模型\n",
    "BusTangible =~ BT1 + BT2 + BT4 + BT5 + BT6 + BT7\n",
    "BusDriversQuality =~ BD1 + BD2 + BD3 + BD4\n",
    "Empathy =~ EMP1 + EMP2 + EMP3 + EMP4 + EMP5\n",
    "EnvironmentalPerformance =~ EP1 + EP2 + EP3 + EP4\n",
    "CustomerSatisfaction =~ CS1 + CS2 + CS3\n",
    "LifeSatisfaction =~ LS1 + LS2 + LS3 + LS4 + LS5\n",
    "\n",
    "# 结构模型\n",
    "CustomerSatisfaction ~ BusTangible + BusDriversQuality + Empathy + EnvironmentalPerformance\n",
    "LifeSatisfaction ~ CustomerSatisfaction\n",
    "\"\"\"\n",
    "mod = Model(model_spec)\n",
    "res_opt = mod.fit(data)\n",
    "estimates = mod.inspect()"
   ]
  },
  {
   "cell_type": "code",
   "execution_count": 17,
   "id": "880de5d2",
   "metadata": {},
   "outputs": [
    {
     "name": "stdout",
     "output_type": "stream",
     "text": [
      "Name of objective: MLW\n",
      "Optimization method: SLSQP\n",
      "Optimization successful.\n",
      "Optimization terminated successfully\n",
      "Objective value: 2.063\n",
      "Number of iterations: 43\n",
      "Params: 1.021 0.986 1.079 1.124 1.132 0.942 1.038 0.897 0.923 0.924 0.870 0.878 1.065 0.851 0.893 1.023 1.045 1.092 1.050 1.102 0.874 0.313 0.132 0.367 0.155 0.270 0.945 0.843 0.792 0.737 0.870 0.929 1.065 1.029 1.002 1.177 1.311 0.833 0.721 0.492 0.595 0.307 0.148 0.428 0.749 1.332 0.975 1.721 0.814 1.163 0.335 0.066 0.773 0.804 1.309 0.798 0.594 1.588 0.640 0.412 0.219 0.475 0.769 1.551 1.013\n"
     ]
    }
   ],
   "source": [
    "print(res_opt)"
   ]
  },
  {
   "cell_type": "code",
   "execution_count": 18,
   "id": "553a712e",
   "metadata": {},
   "outputs": [
    {
     "name": "stdout",
     "output_type": "stream",
     "text": [
      "                    lval  op                      rval  Estimate  Std. Err  \\\n",
      "0   CustomerSatisfaction   ~               BusTangible  0.312992  0.113946   \n",
      "1   CustomerSatisfaction   ~         BusDriversQuality  0.132131  0.096675   \n",
      "2   CustomerSatisfaction   ~                   Empathy  0.366919  0.080496   \n",
      "3   CustomerSatisfaction   ~  EnvironmentalPerformance  0.155423  0.057013   \n",
      "4       LifeSatisfaction   ~      CustomerSatisfaction  0.270154  0.055035   \n",
      "..                   ...  ..                       ...       ...       ...   \n",
      "66                   LS1  ~~                       LS1  0.411645  0.044789   \n",
      "67                   LS2  ~~                       LS2  0.218802  0.034961   \n",
      "68                   LS3  ~~                       LS3  0.475332  0.051035   \n",
      "69                   LS4  ~~                       LS4  0.768538  0.076086   \n",
      "70                   LS5  ~~                       LS5  1.551473  0.138635   \n",
      "\n",
      "      z-value   p-value  \n",
      "0    2.746852  0.006017  \n",
      "1    1.366748  0.171704  \n",
      "2     4.55821  0.000005  \n",
      "3    2.726103  0.006409  \n",
      "4     4.90875  0.000001  \n",
      "..        ...       ...  \n",
      "66   9.190718       0.0  \n",
      "67    6.25841       0.0  \n",
      "68   9.313855       0.0  \n",
      "69  10.100901       0.0  \n",
      "70  11.191088       0.0  \n",
      "\n",
      "[71 rows x 7 columns]\n"
     ]
    }
   ],
   "source": [
    "print(estimates)"
   ]
  },
  {
   "cell_type": "code",
   "execution_count": 24,
   "id": "fa09596f",
   "metadata": {},
   "outputs": [
    {
     "name": "stdout",
     "output_type": "stream",
     "text": [
      "                        lval  op                      rval  Estimate  Std. Err    z-value   p-value\n",
      "0       CustomerSatisfaction   ~               BusTangible  0.312992  0.113946   2.746852  0.006017\n",
      "1       CustomerSatisfaction   ~         BusDriversQuality  0.132131  0.096675   1.366748  0.171704\n",
      "2       CustomerSatisfaction   ~                   Empathy  0.366919  0.080496    4.55821  0.000005\n",
      "3       CustomerSatisfaction   ~  EnvironmentalPerformance  0.155423  0.057013   2.726103  0.006409\n",
      "4           LifeSatisfaction   ~      CustomerSatisfaction  0.270154  0.055035    4.90875  0.000001\n",
      "5                        BT1   ~               BusTangible  1.000000         -          -         -\n",
      "6                        BT2   ~               BusTangible  1.020659  0.099084  10.300981       0.0\n",
      "7                        BT4   ~               BusTangible  0.986033  0.100776   9.784428       0.0\n",
      "8                        BT5   ~               BusTangible  1.078787  0.104512   10.32217       0.0\n",
      "9                        BT6   ~               BusTangible  1.124020   0.10626  10.577979       0.0\n",
      "10                       BT7   ~               BusTangible  1.131608   0.11066  10.226018       0.0\n",
      "11                       BD1   ~         BusDriversQuality  1.000000         -          -         -\n",
      "12                       BD2   ~         BusDriversQuality  0.942073   0.07612  12.376091       0.0\n",
      "13                       BD3   ~         BusDriversQuality  1.038297   0.07969  13.029137       0.0\n",
      "14                       BD4   ~         BusDriversQuality  0.897086  0.071929  12.471812       0.0\n",
      "15                      EMP1   ~                   Empathy  1.000000         -          -         -\n",
      "16                      EMP2   ~                   Empathy  0.922588  0.087175  10.583131       0.0\n",
      "17                      EMP3   ~                   Empathy  0.923554  0.099992   9.236241       0.0\n",
      "18                      EMP4   ~                   Empathy  0.869668  0.081195  10.710816       0.0\n",
      "19                      EMP5   ~                   Empathy  0.877715  0.088116   9.960953       0.0\n",
      "20                       EP1   ~  EnvironmentalPerformance  1.000000         -          -         -\n",
      "21                       EP2   ~  EnvironmentalPerformance  1.065332   0.03602  29.576499       0.0\n",
      "22                       EP3   ~  EnvironmentalPerformance  0.850671  0.049282  17.261336       0.0\n",
      "23                       EP4   ~  EnvironmentalPerformance  0.892862  0.050627  17.636028       0.0\n",
      "24                       CS1   ~      CustomerSatisfaction  1.000000         -          -         -\n",
      "25                       CS2   ~      CustomerSatisfaction  1.022558  0.037659  27.153395       0.0\n",
      "26                       CS3   ~      CustomerSatisfaction  1.044535  0.045584  22.914535       0.0\n",
      "27                       LS1   ~          LifeSatisfaction  1.000000         -          -         -\n",
      "28                       LS2   ~          LifeSatisfaction  1.092190  0.052638  20.749127       0.0\n",
      "29                       LS3   ~          LifeSatisfaction  1.049600  0.058365  17.983358       0.0\n",
      "30                       LS4   ~          LifeSatisfaction  1.102057  0.067851    16.2423       0.0\n",
      "31                       LS5   ~          LifeSatisfaction  0.874116   0.08153   10.72137       0.0\n",
      "32         BusDriversQuality  ~~         BusDriversQuality  1.310814  0.185842    7.05338       0.0\n",
      "33               BusTangible  ~~               BusTangible  0.832660   0.13352   6.236218       0.0\n",
      "34               BusTangible  ~~         BusDriversQuality  0.720818  0.103662   6.953533       0.0\n",
      "35               BusTangible  ~~                   Empathy  0.491679  0.091876   5.351575       0.0\n",
      "36               BusTangible  ~~  EnvironmentalPerformance  0.594983    0.0941   6.322881       0.0\n",
      "37      CustomerSatisfaction  ~~      CustomerSatisfaction  0.748602  0.084602   8.848521       0.0\n",
      "38                   Empathy  ~~                   Empathy  1.308675  0.210841   6.206922       0.0\n",
      "39                   Empathy  ~~         BusDriversQuality  0.797529   0.12341   6.462423       0.0\n",
      "40                   Empathy  ~~  EnvironmentalPerformance  0.594403  0.111372   5.337098       0.0\n",
      "41  EnvironmentalPerformance  ~~  EnvironmentalPerformance  1.587523  0.164403   9.656276       0.0\n",
      "42  EnvironmentalPerformance  ~~         BusDriversQuality  0.640345  0.109803    5.83176       0.0\n",
      "43          LifeSatisfaction  ~~          LifeSatisfaction  1.012728  0.117966   8.584884       0.0\n",
      "44                       BD1  ~~                       BD1  0.945177  0.101253   9.334827       0.0\n",
      "45                       BD2  ~~                       BD2  0.842516  0.090155   9.345182       0.0\n",
      "46                       BD3  ~~                       BD3  0.791508  0.091452   8.654892       0.0\n",
      "47                       BD4  ~~                       BD4  0.737480   0.07964   9.260146       0.0\n",
      "48                       BT1  ~~                       BT1  0.870267  0.087419   9.955125       0.0\n",
      "49                       BT2  ~~                       BT2  0.928811  0.092915   9.996362       0.0\n",
      "50                       BT4  ~~                       BT4  1.065371  0.103339  10.309517       0.0\n",
      "51                       BT5  ~~                       BT5  1.028581  0.103048   9.981577       0.0\n",
      "52                       BT6  ~~                       BT6  1.002423  0.102413   9.788078       0.0\n",
      "53                       BT7  ~~                       BT7  1.177356  0.117181   10.04729       0.0\n",
      "54                       CS1  ~~                       CS1  0.307410  0.037025   8.302719       0.0\n",
      "55                       CS2  ~~                       CS2  0.147644  0.029271   5.044124       0.0\n",
      "56                       CS3  ~~                       CS3  0.428007  0.046779    9.14955       0.0\n",
      "57                      EMP1  ~~                      EMP1  1.332171  0.138825   9.596049       0.0\n",
      "58                      EMP2  ~~                      EMP2  0.974811   0.10534   9.253923       0.0\n",
      "59                      EMP3  ~~                      EMP3  1.720612  0.166951  10.306066       0.0\n",
      "60                      EMP4  ~~                      EMP4  0.814061  0.089474   9.098286       0.0\n",
      "61                      EMP5  ~~                      EMP5  1.162817  0.118146   9.842174       0.0\n",
      "62                       EP1  ~~                       EP1  0.334936  0.038766   8.639947       0.0\n",
      "63                       EP2  ~~                       EP2  0.065811  0.029199   2.253889  0.024203\n",
      "64                       EP3  ~~                       EP3  0.772948  0.070143  11.019526       0.0\n",
      "65                       EP4  ~~                       EP4  0.804288  0.073303  10.972042       0.0\n",
      "66                       LS1  ~~                       LS1  0.411645  0.044789   9.190718       0.0\n",
      "67                       LS2  ~~                       LS2  0.218802  0.034961    6.25841       0.0\n",
      "68                       LS3  ~~                       LS3  0.475332  0.051035   9.313855       0.0\n",
      "69                       LS4  ~~                       LS4  0.768538  0.076086  10.100901       0.0\n",
      "70                       LS5  ~~                       LS5  1.551473  0.138635  11.191088       0.0\n"
     ]
    }
   ],
   "source": [
    "pd.set_option('display.max_rows', 500)\n",
    "pd.set_option('display.max_columns', 100)\n",
    "pd.set_option('display.width', 1000)\n",
    "print(estimates)"
   ]
  },
  {
   "cell_type": "code",
   "execution_count": null,
   "id": "52eed6f3",
   "metadata": {},
   "outputs": [],
   "source": []
  }
 ],
 "metadata": {
  "kernelspec": {
   "display_name": "Python 3 (ipykernel)",
   "language": "python",
   "name": "python3"
  },
  "language_info": {
   "codemirror_mode": {
    "name": "ipython",
    "version": 3
   },
   "file_extension": ".py",
   "mimetype": "text/x-python",
   "name": "python",
   "nbconvert_exporter": "python",
   "pygments_lexer": "ipython3",
   "version": "3.11.5"
  }
 },
 "nbformat": 4,
 "nbformat_minor": 5
}
